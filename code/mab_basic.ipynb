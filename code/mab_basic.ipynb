{
 "cells": [
  {
   "cell_type": "markdown",
   "source": [
    "# Multi armed bandit basic"
   ],
   "metadata": {
    "collapsed": false
   },
   "id": "55f2b3bb95f82f76"
  },
  {
   "cell_type": "code",
   "outputs": [
    {
     "name": "stdout",
     "output_type": "stream",
     "text": [
      "Requirement already satisfied: pip in /Users/opihlak/code/twilio/master-thesis/venv/lib/python3.9/site-packages (23.2.1)\r\n",
      "Collecting pip\r\n",
      "  Obtaining dependency information for pip from https://files.pythonhosted.org/packages/8a/6a/19e9fe04fca059ccf770861c7d5721ab4c2aebc539889e97c7977528a53b/pip-24.0-py3-none-any.whl.metadata\r\n",
      "  Downloading pip-24.0-py3-none-any.whl.metadata (3.6 kB)\r\n",
      "Downloading pip-24.0-py3-none-any.whl (2.1 MB)\r\n",
      "\u001B[2K   \u001B[90m━━━━━━━━━━━━━━━━━━━━━━━━━━━━━━━━━━━━━━━━\u001B[0m \u001B[32m2.1/2.1 MB\u001B[0m \u001B[31m9.3 MB/s\u001B[0m eta \u001B[36m0:00:00\u001B[0ma \u001B[36m0:00:01\u001B[0m\r\n",
      "\u001B[?25hInstalling collected packages: pip\r\n",
      "  Attempting uninstall: pip\r\n",
      "    Found existing installation: pip 23.2.1\r\n",
      "    Uninstalling pip-23.2.1:\r\n",
      "      Successfully uninstalled pip-23.2.1\r\n",
      "Successfully installed pip-24.0\r\n",
      "Requirement already satisfied: numpy in /Users/opihlak/code/twilio/master-thesis/venv/lib/python3.9/site-packages (1.26.4)\r\n",
      "Requirement already satisfied: matplotlib in /Users/opihlak/code/twilio/master-thesis/venv/lib/python3.9/site-packages (3.8.3)\r\n",
      "Requirement already satisfied: contourpy>=1.0.1 in /Users/opihlak/code/twilio/master-thesis/venv/lib/python3.9/site-packages (from matplotlib) (1.2.0)\r\n",
      "Requirement already satisfied: cycler>=0.10 in /Users/opihlak/code/twilio/master-thesis/venv/lib/python3.9/site-packages (from matplotlib) (0.12.1)\r\n",
      "Requirement already satisfied: fonttools>=4.22.0 in /Users/opihlak/code/twilio/master-thesis/venv/lib/python3.9/site-packages (from matplotlib) (4.49.0)\r\n",
      "Requirement already satisfied: kiwisolver>=1.3.1 in /Users/opihlak/code/twilio/master-thesis/venv/lib/python3.9/site-packages (from matplotlib) (1.4.5)\r\n",
      "Requirement already satisfied: numpy<2,>=1.21 in /Users/opihlak/code/twilio/master-thesis/venv/lib/python3.9/site-packages (from matplotlib) (1.26.4)\r\n",
      "Requirement already satisfied: packaging>=20.0 in /Users/opihlak/code/twilio/master-thesis/venv/lib/python3.9/site-packages (from matplotlib) (24.0)\r\n",
      "Requirement already satisfied: pillow>=8 in /Users/opihlak/code/twilio/master-thesis/venv/lib/python3.9/site-packages (from matplotlib) (10.2.0)\r\n",
      "Requirement already satisfied: pyparsing>=2.3.1 in /Users/opihlak/code/twilio/master-thesis/venv/lib/python3.9/site-packages (from matplotlib) (3.1.2)\r\n",
      "Requirement already satisfied: python-dateutil>=2.7 in /Users/opihlak/code/twilio/master-thesis/venv/lib/python3.9/site-packages (from matplotlib) (2.9.0.post0)\r\n",
      "Requirement already satisfied: importlib-resources>=3.2.0 in /Users/opihlak/code/twilio/master-thesis/venv/lib/python3.9/site-packages (from matplotlib) (6.3.0)\r\n",
      "Requirement already satisfied: zipp>=3.1.0 in /Users/opihlak/code/twilio/master-thesis/venv/lib/python3.9/site-packages (from importlib-resources>=3.2.0->matplotlib) (3.18.0)\r\n",
      "Requirement already satisfied: six>=1.5 in /Users/opihlak/code/twilio/master-thesis/venv/lib/python3.9/site-packages (from python-dateutil>=2.7->matplotlib) (1.16.0)\r\n"
     ]
    }
   ],
   "source": [
    "import sys\n",
    "!{sys.executable} -m pip install --upgrade pip\n",
    "!{sys.executable} -m pip install numpy\n",
    "!{sys.executable} -m pip install matplotlib"
   ],
   "metadata": {
    "collapsed": false,
    "ExecuteTime": {
     "end_time": "2024-03-13T10:27:55.195018Z",
     "start_time": "2024-03-13T10:27:46.980979Z"
    }
   },
   "id": "261706e2beb17af9",
   "execution_count": 3
  },
  {
   "cell_type": "code",
   "outputs": [],
   "source": [
    "import random, math\n",
    "import matplotlib.pyplot as plt\n",
    "import numpy as np"
   ],
   "metadata": {
    "collapsed": true,
    "ExecuteTime": {
     "end_time": "2024-03-13T10:28:03.826970Z",
     "start_time": "2024-03-13T10:28:03.824650Z"
    }
   },
   "id": "initial_id",
   "execution_count": 4
  },
  {
   "cell_type": "code",
   "outputs": [],
   "source": [],
   "metadata": {
    "collapsed": false
   },
   "id": "80dfee65f91f2b44"
  }
 ],
 "metadata": {
  "kernelspec": {
   "display_name": "Python 3",
   "language": "python",
   "name": "python3"
  },
  "language_info": {
   "codemirror_mode": {
    "name": "ipython",
    "version": 2
   },
   "file_extension": ".py",
   "mimetype": "text/x-python",
   "name": "python",
   "nbconvert_exporter": "python",
   "pygments_lexer": "ipython2",
   "version": "2.7.6"
  }
 },
 "nbformat": 4,
 "nbformat_minor": 5
}
